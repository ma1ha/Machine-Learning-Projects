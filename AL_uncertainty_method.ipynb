{
 "cells": [
  {
   "cell_type": "code",
   "execution_count": 1,
   "id": "8d2ca8e5",
   "metadata": {
    "scrolled": true
   },
   "outputs": [
    {
     "name": "stderr",
     "output_type": "stream",
     "text": [
      "C:\\Users\\MAHA-PC\\anaconda3\\lib\\site-packages\\scipy\\__init__.py:155: UserWarning: A NumPy version >=1.18.5 and <1.25.0 is required for this version of SciPy (detected version 1.26.3\n",
      "  warnings.warn(f\"A NumPy version >={np_minversion} and <{np_maxversion}\"\n"
     ]
    }
   ],
   "source": [
    "import numpy as np\n",
    "import tensorflow as tf\n",
    "from tensorflow.keras.preprocessing.image import ImageDataGenerator"
   ]
  },
  {
   "cell_type": "code",
   "execution_count": 2,
   "id": "d20a60ba",
   "metadata": {},
   "outputs": [],
   "source": [
    "def calculate_uncertainty(predictions):\n",
    "    entropy = -np.sum(predictions * np.log(predictions + 1e-12), axis=1)\n",
    "    return entropy"
   ]
  },
  {
   "cell_type": "code",
   "execution_count": 3,
   "id": "05bbb69d",
   "metadata": {},
   "outputs": [
    {
     "name": "stderr",
     "output_type": "stream",
     "text": [
      "C:\\Users\\MAHA-PC\\anaconda3\\lib\\site-packages\\keras\\src\\saving\\saving_lib.py:394: UserWarning: Skipping variable loading for optimizer 'rmsprop', because it has 26 variables whereas the saved optimizer has 50 variables. \n",
      "  trackable.load_own_variables(weights_store.get(inner_path))\n"
     ]
    }
   ],
   "source": [
    "model = tf.keras.models.load_model('train_model.keras')"
   ]
  },
  {
   "cell_type": "code",
   "execution_count": 4,
   "id": "68827ee0",
   "metadata": {},
   "outputs": [
    {
     "name": "stdout",
     "output_type": "stream",
     "text": [
      "Found 60 images belonging to 3 classes.\n"
     ]
    }
   ],
   "source": [
    "validation_datagen = ImageDataGenerator(rescale=1./255)\n",
    "validation_dataset = validation_datagen.flow_from_directory(\n",
    "    'Validation/Validation',\n",
    "    target_size=(128, 128),\n",
    "    batch_size=32,\n",
    "    class_mode='categorical',\n",
    "    shuffle=False\n",
    ")"
   ]
  },
  {
   "cell_type": "code",
   "execution_count": 5,
   "id": "2e23ee72",
   "metadata": {},
   "outputs": [
    {
     "name": "stderr",
     "output_type": "stream",
     "text": [
      "C:\\Users\\MAHA-PC\\anaconda3\\lib\\site-packages\\keras\\src\\trainers\\data_adapters\\py_dataset_adapter.py:122: UserWarning: Your `PyDataset` class should call `super().__init__(**kwargs)` in its constructor. `**kwargs` can include `workers`, `use_multiprocessing`, `max_queue_size`. Do not pass these arguments to `fit()`, as they will be ignored.\n",
      "  self._warn_if_super_not_called()\n"
     ]
    },
    {
     "name": "stdout",
     "output_type": "stream",
     "text": [
      "\u001b[1m2/2\u001b[0m \u001b[32m━━━━━━━━━━━━━━━━━━━━\u001b[0m\u001b[37m\u001b[0m \u001b[1m17s\u001b[0m 8s/step\n"
     ]
    }
   ],
   "source": [
    "validation_predictions = model.predict(validation_dataset)\n",
    "uncertainties = calculate_uncertainty(validation_predictions)"
   ]
  },
  {
   "cell_type": "code",
   "execution_count": 6,
   "id": "709f5554",
   "metadata": {},
   "outputs": [],
   "source": [
    "num_samples_to_label = 10\n",
    "selected_indices = np.argsort(uncertainties)[-num_samples_to_label:]"
   ]
  },
  {
   "cell_type": "code",
   "execution_count": 7,
   "id": "78d254d0",
   "metadata": {},
   "outputs": [],
   "source": [
    "validation_data_array = []\n",
    "validation_labels_array = []\n",
    "for i in range(len(validation_dataset)):\n",
    "    batch = validation_dataset[i]\n",
    "    validation_data_array.append(batch[0])\n",
    "    validation_labels_array.append(batch[1])\n",
    "validation_data_array = np.concatenate(validation_data_array)\n",
    "validation_labels_array = np.concatenate(validation_labels_array)"
   ]
  },
  {
   "cell_type": "code",
   "execution_count": 8,
   "id": "0ec19c88",
   "metadata": {},
   "outputs": [],
   "source": [
    "selected_samples = validation_data_array[selected_indices]\n",
    "selected_labels = validation_labels_array[selected_indices]"
   ]
  },
  {
   "cell_type": "code",
   "execution_count": 25,
   "id": "1b35f189",
   "metadata": {},
   "outputs": [],
   "source": [
    "train_data_array = []\n",
    "train_labels_array = []\n",
    "for i in range(len(train_data)):\n",
    "    batch = train_data[i]\n",
    "    train_data_array.append(batch[0])\n",
    "    train_labels_array.append(batch[1])\n",
    "train_data_array = np.concatenate(train_data_array)\n",
    "train_labels_array = np.concatenate(train_labels_array)"
   ]
  },
  {
   "cell_type": "code",
   "execution_count": 27,
   "id": "0516bac0",
   "metadata": {},
   "outputs": [],
   "source": [
    "train_data = np.concatenate((train_data_array, selected_samples))\n",
    "train_labels = np.concatenate((train_labels_array, selected_labels))"
   ]
  },
  {
   "cell_type": "code",
   "execution_count": 28,
   "id": "0f224ee4",
   "metadata": {},
   "outputs": [
    {
     "name": "stdout",
     "output_type": "stream",
     "text": [
      "Epoch 1/10\n",
      "\u001b[1m42/42\u001b[0m \u001b[32m━━━━━━━━━━━━━━━━━━━━\u001b[0m\u001b[37m\u001b[0m \u001b[1m70s\u001b[0m 2s/step - accuracy: 0.3382 - loss: 1.1849 - val_accuracy: 0.6667 - val_loss: 0.6599\n",
      "Epoch 2/10\n",
      "\u001b[1m42/42\u001b[0m \u001b[32m━━━━━━━━━━━━━━━━━━━━\u001b[0m\u001b[37m\u001b[0m \u001b[1m78s\u001b[0m 2s/step - accuracy: 0.6299 - loss: 0.7035 - val_accuracy: 0.6833 - val_loss: 0.5815\n",
      "Epoch 3/10\n",
      "\u001b[1m42/42\u001b[0m \u001b[32m━━━━━━━━━━━━━━━━━━━━\u001b[0m\u001b[37m\u001b[0m \u001b[1m85s\u001b[0m 2s/step - accuracy: 0.6759 - loss: 0.5955 - val_accuracy: 0.7667 - val_loss: 0.4239\n",
      "Epoch 4/10\n",
      "\u001b[1m42/42\u001b[0m \u001b[32m━━━━━━━━━━━━━━━━━━━━\u001b[0m\u001b[37m\u001b[0m \u001b[1m76s\u001b[0m 2s/step - accuracy: 0.8315 - loss: 0.4331 - val_accuracy: 0.7500 - val_loss: 0.6232\n",
      "Epoch 5/10\n",
      "\u001b[1m42/42\u001b[0m \u001b[32m━━━━━━━━━━━━━━━━━━━━\u001b[0m\u001b[37m\u001b[0m \u001b[1m75s\u001b[0m 2s/step - accuracy: 0.8686 - loss: 0.3456 - val_accuracy: 0.8833 - val_loss: 0.2425\n",
      "Epoch 6/10\n",
      "\u001b[1m42/42\u001b[0m \u001b[32m━━━━━━━━━━━━━━━━━━━━\u001b[0m\u001b[37m\u001b[0m \u001b[1m84s\u001b[0m 2s/step - accuracy: 0.9349 - loss: 0.1998 - val_accuracy: 0.9500 - val_loss: 0.1910\n",
      "Epoch 7/10\n",
      "\u001b[1m42/42\u001b[0m \u001b[32m━━━━━━━━━━━━━━━━━━━━\u001b[0m\u001b[37m\u001b[0m \u001b[1m80s\u001b[0m 2s/step - accuracy: 0.9229 - loss: 0.2806 - val_accuracy: 0.9833 - val_loss: 0.0530\n",
      "Epoch 8/10\n",
      "\u001b[1m42/42\u001b[0m \u001b[32m━━━━━━━━━━━━━━━━━━━━\u001b[0m\u001b[37m\u001b[0m \u001b[1m78s\u001b[0m 2s/step - accuracy: 0.9516 - loss: 0.1363 - val_accuracy: 0.9833 - val_loss: 0.0544\n",
      "Epoch 9/10\n",
      "\u001b[1m42/42\u001b[0m \u001b[32m━━━━━━━━━━━━━━━━━━━━\u001b[0m\u001b[37m\u001b[0m \u001b[1m77s\u001b[0m 2s/step - accuracy: 0.9380 - loss: 0.1707 - val_accuracy: 0.9333 - val_loss: 0.2968\n",
      "Epoch 10/10\n",
      "\u001b[1m42/42\u001b[0m \u001b[32m━━━━━━━━━━━━━━━━━━━━\u001b[0m\u001b[37m\u001b[0m \u001b[1m76s\u001b[0m 2s/step - accuracy: 0.9563 - loss: 0.1385 - val_accuracy: 0.9333 - val_loss: 0.1776\n"
     ]
    }
   ],
   "source": [
    "history = model.fit(train_data, train_labels, epochs=10, batch_size=32, validation_data=(validation_data_array, validation_labels_array))"
   ]
  },
  {
   "cell_type": "code",
   "execution_count": 29,
   "id": "db1f9886",
   "metadata": {},
   "outputs": [
    {
     "data": {
      "image/png": "[encoded data removed]",
      "text/plain": [
       "<Figure size 640x480 with 1 Axes>"
      ]
     },
     "metadata": {},
     "output_type": "display_data"
    }
   ],
   "source": [
    "import matplotlib.pyplot as plt\n",
    "plt.plot(history.history['accuracy'], label='Training Accuracy')\n",
    "plt.plot(history.history['val_accuracy'], label='Validation Accuracy')\n",
    "plt.xlabel('Epoch')\n",
    "plt.ylabel('Accuracy')\n",
    "plt.title('Training and Validation Accuracy')\n",
    "plt.legend()\n",
    "plt.show()"
   ]
  },
  {
   "cell_type": "code",
   "execution_count": 30,
   "id": "3b1d13d7",
   "metadata": {},
   "outputs": [],
   "source": [
    "model.save(\"AL_uncertainty_method.keras\")"
   ]
  }
 ],
 "metadata": {
  "kernelspec": {
   "display_name": "Python 3 (ipykernel)",
   "language": "python",
   "name": "python3"
  },
  "language_info": {
   "codemirror_mode": {
    "name": "ipython",
    "version": 3
   },
   "file_extension": ".py",
   "mimetype": "text/x-python",
   "name": "python",
   "nbconvert_exporter": "python",
   "pygments_lexer": "ipython3",
   "version": "3.9.13"
  }
 },
 "nbformat": 4,
 "nbformat_minor": 5
}
